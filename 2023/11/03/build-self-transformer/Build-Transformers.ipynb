{
 "cells": [
  {
   "cell_type": "code",
   "execution_count": 3,
   "id": "c89b9a84",
   "metadata": {},
   "outputs": [],
   "source": [
    "import numpy as np\n",
    "import torch\n",
    "import torch.nn as nn"
   ]
  },
  {
   "cell_type": "markdown",
   "metadata": {},
   "source": [
    "Basical Formual:\n",
    "$$\n",
    "y = softmax(\\frac{KQ^T}{\\sqrt{d}})V\n",
    "$$\n",
    "\n",
    "Actual operation we are going to implement:\n",
    "$$\n",
    "y = SelfAttention(z^{i}w_K,z^{i}w_Q,z^{i}w_V = \\\\softmax(\\frac{z^{i}w_Kw_Q^Tz^{i T}}{\\sqrt{d}}) z^{i}w_V\n",
    "\n",
    "$$"
   ]
  },
  {
   "cell_type": "code",
   "execution_count": 4,
   "metadata": {},
   "outputs": [],
   "source": [
    "def softmax(Z):\n",
    "    \"\"\"\n",
    "    Compute softmax values for each sets of scores in Z.\n",
    "    each row of Z is a set of scores.\n",
    "    \"\"\"\n",
    "    # incase of the exploding of the exponential, we subtract the max of each row\n",
    "    e_Z = np.exp(Z - np.max(Z, axis = 1, keepdims = True))\n",
    "    A = e_Z / e_Z.sum(axis = 1, keepdims = True)\n",
    "    return A\n",
    "\n",
    "def self_attention(X, mask, W_KQV, W_out):\n",
    "    K, Q, V = np.split(X@W_KQV, 3, axis = 1)\n",
    "    attn = softmax(K@Q.T / np.sqrt(X.shape[1]) + mask)\n",
    "    return attn@V@W_out, attn"
   ]
  },
  {
   "cell_type": "markdown",
   "metadata": {},
   "source": [
    "$$\n",
    "K = XW_K\\\\\n",
    "Q = XW_Q\\\\\n",
    "V = XW_V\n",
    "$$\n",
    "\n",
    "=> \n",
    "\n",
    "$$\n",
    "[K Q V] = X[W_k W_Q W_V] = XW_{KQV}\n",
    "$$"
   ]
  },
  {
   "cell_type": "code",
   "execution_count": 5,
   "metadata": {},
   "outputs": [],
   "source": [
    "T, d = 100, 64\n",
    "attn = nn.MultiheadAttention(d, 1, bias=False, batch_first=True)\n",
    "M = torch.triu(-float('inf')*torch.ones(T, T), 1)"
   ]
  },
  {
   "cell_type": "code",
   "execution_count": 6,
   "metadata": {},
   "outputs": [
    {
     "data": {
      "text/plain": [
       "tensor([[0., -inf, -inf,  ..., -inf, -inf, -inf],\n",
       "        [0., 0., -inf,  ..., -inf, -inf, -inf],\n",
       "        [0., 0., 0.,  ..., -inf, -inf, -inf],\n",
       "        ...,\n",
       "        [0., 0., 0.,  ..., 0., -inf, -inf],\n",
       "        [0., 0., 0.,  ..., 0., 0., -inf],\n",
       "        [0., 0., 0.,  ..., 0., 0., 0.]])"
      ]
     },
     "execution_count": 6,
     "metadata": {},
     "output_type": "execute_result"
    }
   ],
   "source": [
    "M"
   ]
  },
  {
   "cell_type": "code",
   "execution_count": null,
   "metadata": {},
   "outputs": [],
   "source": []
  }
 ],
 "metadata": {
  "kernelspec": {
   "display_name": "Python 3 (ipykernel)",
   "language": "python",
   "name": "python3"
  },
  "language_info": {
   "codemirror_mode": {
    "name": "ipython",
    "version": 3
   },
   "file_extension": ".py",
   "mimetype": "text/x-python",
   "name": "python",
   "nbconvert_exporter": "python",
   "pygments_lexer": "ipython3",
   "version": "3.9.0"
  }
 },
 "nbformat": 4,
 "nbformat_minor": 5
}
